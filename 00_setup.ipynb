{
 "cells": [
  {
   "cell_type": "markdown",
   "metadata": {},
   "source": [
    "<h1 align=\"center\">SimpleITK: image analysis for all levels of programming expertise</h1>\n",
    "\n",
    "## Newcomers to Jupyter notebooks:\n",
    "1. We use two types of cells, code and markdown.\n",
    "2. To run a code cell, select it (mouse or arrow key so that it is highlighted) and then press shift+enter which also moves focus to the next cell or ctrl+enter which doesn't.\n",
    "3. Closing the browser window does not close the Jupyter server. To close the server, go to the terminal where you ran it and press ctrl+c twice.\n",
    "\n",
    "For additional details see the [Jupyter project documentation](https://jupyter.org/documentation) on Jupyter Notebook or JupyterLab.\n",
    "\n",
    "## Convenience\n",
    "By default the contents of the Jupyter notebooks do not occupy the full browser window width. To take advantage of the full window width you can either configure each notebook independently by adding the following into a code cell:\n",
    "```\n",
    "from IPython.core.display import display, HTML\n",
    "display(HTML(\"<style>.container { width:100% !important; }</style>\"))\n",
    "```\n",
    "Or apply this configuration to all notebooks by adding the following to\n",
    "the custom.css jupyter configuration file:\n",
    "```\n",
    ".container { width:100% !important; }\n",
    "```\n",
    "On OSX/Linux this file is found in `~/.jupyter/custom/custom.css` on windows it is\n",
    "found in `C:\\Users\\[your_user_name]\\.jupyter\\custom\\custom.css`.\n",
    "\n",
    "## Environment Setup for Course\n",
    "\n",
    "This notebook should be run prior to arriving at the course venue, as it <b>requires network connectivity</b>."
   ]
  },
  {
   "cell_type": "markdown",
   "metadata": {},
   "source": [
    "First, lets check that you have the SimpleITK version which you expect."
   ]
  },
  {
   "cell_type": "code",
   "execution_count": 1,
   "metadata": {},
   "outputs": [
    {
     "name": "stdout",
     "output_type": "stream",
     "text": [
      "SimpleITK Version: 2.3.1 (ITK 5.3)\n",
      "Compiled: Dec  4 2023 18:23:44\n",
      "\n"
     ]
    }
   ],
   "source": [
    "import SimpleITK as sitk\n",
    "from downloaddata import fetch_data, fetch_data_all\n",
    "\n",
    "from ipywidgets import interact\n",
    "\n",
    "print(sitk.Version())"
   ]
  },
  {
   "cell_type": "markdown",
   "metadata": {},
   "source": [
    "Next, we check that the auxiliary program(s) are correctly installed in your environment.\n",
    "\n",
    "We expect that you have an external image viewer installed. The default viewer is <a href=\"https://fiji.sc/#download\">Fiji</a>. If you have another viewer (i.e. ITK-SNAP or 3D Slicer) you will need to set an environment variable to point to it. This is done using an environment variable which can also be set from within a notebook as shown below."
   ]
  },
  {
   "cell_type": "code",
   "execution_count": 2,
   "metadata": {
    "simpleitk_error_allowed": "Exception thrown in SimpleITK ImageViewer_Execute:"
   },
   "outputs": [
    {
     "name": "stdout",
     "output_type": "stream",
     "text": [
      "Fetching SimpleITK.jpg\n",
      "Downloaded 7516 of 7516 bytes (100.00%)\n"
     ]
    }
   ],
   "source": [
    "# Retrieve an image from the network, read it and display using the external viewer\n",
    "image_viewer = sitk.ImageViewer()\n",
    "# Uncomment the line below to change the default external viewer to your viewer of choice and test that it works.\n",
    "# image_viewer.SetApplication('/Applications/ITK-SNAP.app/Contents/MacOS/ITK-SNAP')\n",
    "\n",
    "image_viewer.Execute(sitk.ReadImage(fetch_data(\"SimpleITK.jpg\")))"
   ]
  },
  {
   "cell_type": "markdown",
   "metadata": {},
   "source": [
    "Now we check that the ipywidgets will display correctly. When you run the following cell you should see a slider.\n",
    "\n",
    "If you don't see a slider please shutdown the Jupyter server, at the Anaconda command line prompt press Control-c twice, and then run the following command:\n",
    "\n",
    "```jupyter nbextension enable --py --sys-prefix widgetsnbextension```"
   ]
  },
  {
   "cell_type": "code",
   "execution_count": 3,
   "metadata": {},
   "outputs": [
    {
     "data": {
      "application/vnd.jupyter.widget-view+json": {
       "model_id": "978b6a70416a4831a409e4d1a3a461a5",
       "version_major": 2,
       "version_minor": 0
      },
      "text/plain": [
       "interactive(children=(IntSlider(value=5, description='x', max=10), Output()), _dom_classes=('widget-interact',…"
      ]
     },
     "metadata": {},
     "output_type": "display_data"
    }
   ],
   "source": [
    "interact(lambda x: x, x=(0, 10));"
   ]
  },
  {
   "cell_type": "markdown",
   "metadata": {},
   "source": [
    "Finally, we download all of the data used in the notebooks in advance. This step is necessary as we will be running the notebooks without network connectivity.\n",
    "\n",
    "This may take a couple of minutes depending on your network."
   ]
  },
  {
   "cell_type": "code",
   "execution_count": 4,
   "metadata": {},
   "outputs": [
    {
     "name": "stdout",
     "output_type": "stream",
     "text": [
      "Fetching SimpleITK.jpg\n",
      "Fetching CIRS057A_MR_CT_DICOM/readme.txt\n",
      "Downloaded 96187036 of 96187036 bytes (100.00%)\n",
      "Fetching training_001_ct.mha\n",
      "Downloaded 15204697 of 15204697 bytes (100.00%)\n",
      "Fetching training_001_mr_T1.mha\n",
      "Downloaded 3408209 of 3408209 bytes (100.00%)\n",
      "Fetching POPI/meta/00-P.mhd\n",
      "Downloaded 48936960 of 48936960 bytes (100.00%)\n",
      "Fetching POPI/meta/70-P.mhd\n",
      "Downloaded 43352064 of 48936960 bytes (88.59%)"
     ]
    },
    {
     "name": "stderr",
     "output_type": "stream",
     "text": [
      "IOPub message rate exceeded.\n",
      "The Jupyter server will temporarily stop sending output\n",
      "to the client in order to avoid crashing it.\n",
      "To change this limit, set the config variable\n",
      "`--ServerApp.iopub_msg_rate_limit`.\n",
      "\n",
      "Current values:\n",
      "ServerApp.iopub_msg_rate_limit=1000.0 (msgs/sec)\n",
      "ServerApp.rate_limit_window=3.0 (secs)\n",
      "\n"
     ]
    },
    {
     "name": "stdout",
     "output_type": "stream",
     "text": [
      "Downloaded 716 of 716 bytes (100.00%)\n",
      "Fetching POPI/masks/00-air-body-lungs.mhd\n",
      "Downloaded 24473600 of 24473600 bytes (100.00%)\n",
      "Fetching POPI/masks/70-air-body-lungs.mhd\n",
      "Downloaded 24473600 of 24473600 bytes (100.00%)\n",
      "Fetching fib_sem_bacillus_subtilis.mha\n",
      "Downloaded 74215399 of 74215399 bytes (100.00%)\n",
      "Fetching leg_panorama/readme.txt\n",
      "Downloaded 4860564 of 4860564 bytes (100.00%)\n",
      "Fetching liverTumorSegmentations/Patient01Homo.mha\n",
      "Downloaded 1365461 of 1365461 bytes (100.00%)\n",
      "Fetching liverTumorSegmentations/Patient01Homo_Rad01.mha\n",
      "Downloaded 3757 of 3757 bytes (100.00%)\n",
      "Fetching liverTumorSegmentations/Patient01Homo_Rad02.mha\n",
      "Downloaded 3722 of 3722 bytes (100.00%)\n",
      "Fetching liverTumorSegmentations/Patient01Homo_Rad03.mha\n",
      "Downloaded 3796 of 3796 bytes (100.00%)\n"
     ]
    }
   ],
   "source": [
    "import os\n",
    "fetch_data_all(\"data\", os.path.join(\"data\", \"manifest.json\"))"
   ]
  },
  {
   "cell_type": "markdown",
   "metadata": {},
   "source": [
    "<a href=\"01_spatial_transformations.ipynb\"><h2 align=right>Next &raquo;</h2></a>"
   ]
  }
 ],
 "metadata": {
  "kernelspec": {
   "display_name": "Python 3 (ipykernel)",
   "language": "python",
   "name": "python3"
  },
  "language_info": {
   "codemirror_mode": {
    "name": "ipython",
    "version": 3
   },
   "file_extension": ".py",
   "mimetype": "text/x-python",
   "name": "python",
   "nbconvert_exporter": "python",
   "pygments_lexer": "ipython3",
   "version": "3.9.18"
  }
 },
 "nbformat": 4,
 "nbformat_minor": 4
}
